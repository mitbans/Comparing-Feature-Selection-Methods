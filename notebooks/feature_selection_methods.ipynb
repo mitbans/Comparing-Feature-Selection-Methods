{
 "cells": [
  {
   "cell_type": "markdown",
   "metadata": {},
   "source": [
    "### Try It: Comparing Feature Selection Methods\n",
    "\n",
    "In this module, you have seen two ways to select features.  The first approach is using sequential feature selection to sequentially add or delete features and only use those that improve the model.  The second approach is using a regularized model to identify features based on non-zero coefficients.  This activity focuses on comparing variations of both these methods.  \n",
    "\n",
    "You will use both the `SequentialFeatureSelection` and `RFE` (recursive feature elimination) to build and compare regression models.  Consider the following 6 feature selection methods -- leave all other arguments to default besides the `estimator` and `n_features_to_select` arguments:\n",
    "\n",
    "- `Ridge` regressor to extract coefficients\n",
    "- `SequentialFeatureSelection` using the `Lasso` to select 4 features.\n",
    "- `RFE` using `Lasso` to select 4 features.\n",
    "\n",
    "For each of these, fit the training data `X_train`, `y_train` below.  Compare the magnitude of the results of your `Ridge` model to those that result from feature selection methods.  \n",
    "\n",
    "#### The Data\n",
    "\n",
    "For this problem a dataset with information on red wine chemical compositions and their quality is given.  Your goal is to use the properties of the wine to predict the quality.  Below, the data is loaded and train/test splits constructed."
   ]
  },
  {
   "cell_type": "code",
   "execution_count": 39,
   "metadata": {},
   "outputs": [],
   "source": [
    "from sklearn.feature_selection import SequentialFeatureSelector, RFE\n",
    "from sklearn.preprocessing import PolynomialFeatures, StandardScaler\n",
    "from sklearn.model_selection import train_test_split, GridSearchCV, learning_curve\n",
    "from sklearn.linear_model import Ridge, Lasso, LinearRegression\n",
    "from sklearn.metrics import mean_squared_error\n",
    "from sklearn.pipeline import Pipeline\n",
    "from sklearn import set_config\n",
    "set_config(display=\"diagram\")\n",
    "\n",
    "import matplotlib.pyplot as plt\n",
    "import pandas as pd\n",
    "import numpy as np\n",
    "import warnings\n",
    "warnings.filterwarnings(\"ignore\")"
   ]
  },
  {
   "cell_type": "code",
   "execution_count": 41,
   "metadata": {},
   "outputs": [],
   "source": [
    "df = pd.read_csv('../data/winequality-red.csv', sep = ',')"
   ]
  },
  {
   "cell_type": "code",
   "execution_count": 43,
   "metadata": {},
   "outputs": [
    {
     "data": {
      "text/html": [
       "<div>\n",
       "<style scoped>\n",
       "    .dataframe tbody tr th:only-of-type {\n",
       "        vertical-align: middle;\n",
       "    }\n",
       "\n",
       "    .dataframe tbody tr th {\n",
       "        vertical-align: top;\n",
       "    }\n",
       "\n",
       "    .dataframe thead th {\n",
       "        text-align: right;\n",
       "    }\n",
       "</style>\n",
       "<table border=\"1\" class=\"dataframe\">\n",
       "  <thead>\n",
       "    <tr style=\"text-align: right;\">\n",
       "      <th></th>\n",
       "      <th>fixed acidity</th>\n",
       "      <th>volatile acidity</th>\n",
       "      <th>citric acid</th>\n",
       "      <th>residual sugar</th>\n",
       "      <th>chlorides</th>\n",
       "      <th>free sulfur dioxide</th>\n",
       "      <th>total sulfur dioxide</th>\n",
       "      <th>density</th>\n",
       "      <th>pH</th>\n",
       "      <th>sulphates</th>\n",
       "      <th>alcohol</th>\n",
       "      <th>quality</th>\n",
       "    </tr>\n",
       "  </thead>\n",
       "  <tbody>\n",
       "    <tr>\n",
       "      <th>0</th>\n",
       "      <td>7.4</td>\n",
       "      <td>0.70</td>\n",
       "      <td>0.00</td>\n",
       "      <td>1.9</td>\n",
       "      <td>0.076</td>\n",
       "      <td>11.0</td>\n",
       "      <td>34.0</td>\n",
       "      <td>0.9978</td>\n",
       "      <td>3.51</td>\n",
       "      <td>0.56</td>\n",
       "      <td>9.4</td>\n",
       "      <td>5</td>\n",
       "    </tr>\n",
       "    <tr>\n",
       "      <th>1</th>\n",
       "      <td>7.8</td>\n",
       "      <td>0.88</td>\n",
       "      <td>0.00</td>\n",
       "      <td>2.6</td>\n",
       "      <td>0.098</td>\n",
       "      <td>25.0</td>\n",
       "      <td>67.0</td>\n",
       "      <td>0.9968</td>\n",
       "      <td>3.20</td>\n",
       "      <td>0.68</td>\n",
       "      <td>9.8</td>\n",
       "      <td>5</td>\n",
       "    </tr>\n",
       "    <tr>\n",
       "      <th>2</th>\n",
       "      <td>7.8</td>\n",
       "      <td>0.76</td>\n",
       "      <td>0.04</td>\n",
       "      <td>2.3</td>\n",
       "      <td>0.092</td>\n",
       "      <td>15.0</td>\n",
       "      <td>54.0</td>\n",
       "      <td>0.9970</td>\n",
       "      <td>3.26</td>\n",
       "      <td>0.65</td>\n",
       "      <td>9.8</td>\n",
       "      <td>5</td>\n",
       "    </tr>\n",
       "    <tr>\n",
       "      <th>3</th>\n",
       "      <td>11.2</td>\n",
       "      <td>0.28</td>\n",
       "      <td>0.56</td>\n",
       "      <td>1.9</td>\n",
       "      <td>0.075</td>\n",
       "      <td>17.0</td>\n",
       "      <td>60.0</td>\n",
       "      <td>0.9980</td>\n",
       "      <td>3.16</td>\n",
       "      <td>0.58</td>\n",
       "      <td>9.8</td>\n",
       "      <td>6</td>\n",
       "    </tr>\n",
       "    <tr>\n",
       "      <th>4</th>\n",
       "      <td>7.4</td>\n",
       "      <td>0.70</td>\n",
       "      <td>0.00</td>\n",
       "      <td>1.9</td>\n",
       "      <td>0.076</td>\n",
       "      <td>11.0</td>\n",
       "      <td>34.0</td>\n",
       "      <td>0.9978</td>\n",
       "      <td>3.51</td>\n",
       "      <td>0.56</td>\n",
       "      <td>9.4</td>\n",
       "      <td>5</td>\n",
       "    </tr>\n",
       "  </tbody>\n",
       "</table>\n",
       "</div>"
      ],
      "text/plain": [
       "   fixed acidity  volatile acidity  citric acid  residual sugar  chlorides  \\\n",
       "0            7.4              0.70         0.00             1.9      0.076   \n",
       "1            7.8              0.88         0.00             2.6      0.098   \n",
       "2            7.8              0.76         0.04             2.3      0.092   \n",
       "3           11.2              0.28         0.56             1.9      0.075   \n",
       "4            7.4              0.70         0.00             1.9      0.076   \n",
       "\n",
       "   free sulfur dioxide  total sulfur dioxide  density    pH  sulphates  \\\n",
       "0                 11.0                  34.0   0.9978  3.51       0.56   \n",
       "1                 25.0                  67.0   0.9968  3.20       0.68   \n",
       "2                 15.0                  54.0   0.9970  3.26       0.65   \n",
       "3                 17.0                  60.0   0.9980  3.16       0.58   \n",
       "4                 11.0                  34.0   0.9978  3.51       0.56   \n",
       "\n",
       "   alcohol  quality  \n",
       "0      9.4        5  \n",
       "1      9.8        5  \n",
       "2      9.8        5  \n",
       "3      9.8        6  \n",
       "4      9.4        5  "
      ]
     },
     "execution_count": 43,
     "metadata": {},
     "output_type": "execute_result"
    }
   ],
   "source": [
    "df.head()"
   ]
  },
  {
   "cell_type": "code",
   "execution_count": 45,
   "metadata": {},
   "outputs": [],
   "source": [
    "X = df.drop('quality', axis = 1)\n",
    "y = df['quality']"
   ]
  },
  {
   "cell_type": "code",
   "execution_count": 47,
   "metadata": {},
   "outputs": [
    {
     "data": {
      "text/plain": [
       "<Axes: >"
      ]
     },
     "execution_count": 47,
     "metadata": {},
     "output_type": "execute_result"
    },
    {
     "data": {
      "image/png": "[encoded data removed]",
      "text/plain": [
       "<Figure size 640x480 with 1 Axes>"
      ]
     },
     "metadata": {},
     "output_type": "display_data"
    }
   ],
   "source": [
    "y.hist()"
   ]
  },
  {
   "cell_type": "code",
   "execution_count": 48,
   "metadata": {},
   "outputs": [],
   "source": [
    "X_train, X_test, y_train, y_test = train_test_split(X, y, random_state = 42)"
   ]
  },
  {
   "cell_type": "markdown",
   "metadata": {},
   "source": [
    "## Ridge regressor to extract coefficients (Using GridSearchCV)"
   ]
  },
  {
   "cell_type": "code",
   "execution_count": 58,
   "metadata": {},
   "outputs": [
    {
     "name": "stdout",
     "output_type": "stream",
     "text": [
      "ridge_train_mse: 0.42812356456832135\n",
      "ridge_test_mse: 0.3896302697256314\n",
      "ridge_best_alpha: 75.43120063354607\n",
      "ridge_coef: [ 0.04985729 -0.16935326 -0.00715067  0.01823137 -0.0832446   0.04122615\n",
      " -0.11156329 -0.05267883 -0.03482946  0.13866633  0.27431721]\n",
      "ridge_coef_df_sorted:\n"
     ]
    },
    {
     "data": {
      "text/html": [
       "<div>\n",
       "<style scoped>\n",
       "    .dataframe tbody tr th:only-of-type {\n",
       "        vertical-align: middle;\n",
       "    }\n",
       "\n",
       "    .dataframe tbody tr th {\n",
       "        vertical-align: top;\n",
       "    }\n",
       "\n",
       "    .dataframe thead th {\n",
       "        text-align: right;\n",
       "    }\n",
       "</style>\n",
       "<table border=\"1\" class=\"dataframe\">\n",
       "  <thead>\n",
       "    <tr style=\"text-align: right;\">\n",
       "      <th></th>\n",
       "      <th>feature</th>\n",
       "      <th>ridge_coef</th>\n",
       "    </tr>\n",
       "  </thead>\n",
       "  <tbody>\n",
       "    <tr>\n",
       "      <th>10</th>\n",
       "      <td>alcohol</td>\n",
       "      <td>0.274317</td>\n",
       "    </tr>\n",
       "    <tr>\n",
       "      <th>1</th>\n",
       "      <td>volatile acidity</td>\n",
       "      <td>-0.169353</td>\n",
       "    </tr>\n",
       "    <tr>\n",
       "      <th>9</th>\n",
       "      <td>sulphates</td>\n",
       "      <td>0.138666</td>\n",
       "    </tr>\n",
       "    <tr>\n",
       "      <th>6</th>\n",
       "      <td>total sulfur dioxide</td>\n",
       "      <td>-0.111563</td>\n",
       "    </tr>\n",
       "    <tr>\n",
       "      <th>4</th>\n",
       "      <td>chlorides</td>\n",
       "      <td>-0.083245</td>\n",
       "    </tr>\n",
       "    <tr>\n",
       "      <th>7</th>\n",
       "      <td>density</td>\n",
       "      <td>-0.052679</td>\n",
       "    </tr>\n",
       "    <tr>\n",
       "      <th>0</th>\n",
       "      <td>fixed acidity</td>\n",
       "      <td>0.049857</td>\n",
       "    </tr>\n",
       "    <tr>\n",
       "      <th>5</th>\n",
       "      <td>free sulfur dioxide</td>\n",
       "      <td>0.041226</td>\n",
       "    </tr>\n",
       "    <tr>\n",
       "      <th>8</th>\n",
       "      <td>pH</td>\n",
       "      <td>-0.034829</td>\n",
       "    </tr>\n",
       "    <tr>\n",
       "      <th>3</th>\n",
       "      <td>residual sugar</td>\n",
       "      <td>0.018231</td>\n",
       "    </tr>\n",
       "    <tr>\n",
       "      <th>2</th>\n",
       "      <td>citric acid</td>\n",
       "      <td>-0.007151</td>\n",
       "    </tr>\n",
       "  </tbody>\n",
       "</table>\n",
       "</div>"
      ],
      "text/plain": [
       "                 feature  ridge_coef\n",
       "10               alcohol    0.274317\n",
       "1       volatile acidity   -0.169353\n",
       "9              sulphates    0.138666\n",
       "6   total sulfur dioxide   -0.111563\n",
       "4              chlorides   -0.083245\n",
       "7                density   -0.052679\n",
       "0          fixed acidity    0.049857\n",
       "5    free sulfur dioxide    0.041226\n",
       "8                     pH   -0.034829\n",
       "3         residual sugar    0.018231\n",
       "2            citric acid   -0.007151"
      ]
     },
     "execution_count": 58,
     "metadata": {},
     "output_type": "execute_result"
    }
   ],
   "source": [
    "ridge_param_dict = {'ridge__alpha': np.logspace(-4, 4, 50)}\n",
    "ridge_pipe = Pipeline([('scaler', StandardScaler()), \n",
    "                      ('ridge', Ridge())])\n",
    "ridge_grid = GridSearchCV(ridge_pipe, param_grid=ridge_param_dict)\n",
    "ridge_grid.fit(X_train, y_train)\n",
    "ridge_train_preds = ridge_grid.predict(X_train)\n",
    "ridge_test_preds = ridge_grid.predict(X_test)\n",
    "\n",
    "ridge_train_mse = mean_squared_error(y_train, ridge_train_preds)\n",
    "ridge_test_mse = mean_squared_error(y_test, ridge_test_preds)\n",
    "print('ridge_train_mse:',ridge_train_mse)\n",
    "print('ridge_test_mse:',ridge_test_mse)\n",
    "\n",
    "ridge_best_alpha = ridge_grid.best_params_['ridge__alpha']\n",
    "print('ridge_best_alpha:',ridge_best_alpha)\n",
    "\n",
    "# Extract the best estimator and its coefficients\n",
    "best_ridge_model = ridge_grid.best_estimator_\n",
    "ridge_coef = best_ridge_model.named_steps['ridge'].coef_\n",
    "print('ridge_coef:',ridge_coef)\n",
    "\n",
    "ridge_coef_df = pd.DataFrame(zip(X_train.columns, ridge_coef) , columns=['feature', 'ridge_coef'])\n",
    "ridge_coef_df_sorted = ridge_coef_df.reindex(ridge_coef_df['ridge_coef'].abs().sort_values(ascending=False).index)\n",
    "print('ridge_coef_df_sorted:')\n",
    "ridge_coef_df_sorted"
   ]
  },
  {
   "cell_type": "code",
   "execution_count": 89,
   "metadata": {},
   "outputs": [
    {
     "data": {
      "image/png": "[encoded data removed]",
      "text/plain": [
       "<Figure size 640x480 with 1 Axes>"
      ]
     },
     "metadata": {},
     "output_type": "display_data"
    }
   ],
   "source": [
    "#Plot Learning curve\n",
    "ridge_train_sizes, ridge_train_scores, ridge_test_scores = learning_curve(\n",
    "        ridge_grid,\n",
    "        X_train,\n",
    "        y_train\n",
    "    )\n",
    "ridge_train_scores_mean = np.mean(ridge_train_scores, axis=1)\n",
    "ridge_test_scores_mean = np.mean(ridge_test_scores, axis=1)\n",
    "\n",
    "plt.plot(ridge_train_sizes, ridge_train_scores_mean, label=\"Training score\", color=\"navy\", marker='o')\n",
    "plt.plot(ridge_train_sizes, ridge_test_scores_mean, label=\"Validation score\", color=\"darkorange\", marker='o')\n",
    "plt.ylabel('Score', fontsize = 14)\n",
    "plt.xlabel('Training set size', fontsize = 14)\n",
    "plt.title('Learning curves for Ridge', fontsize = 18, y = 1.03)\n",
    "plt.legend()\n",
    "plt.show()"
   ]
  },
  {
   "cell_type": "markdown",
   "metadata": {},
   "source": [
    "## SequentialFeatureSelection using the Lasso to select 4 features."
   ]
  },
  {
   "cell_type": "code",
   "execution_count": 62,
   "metadata": {},
   "outputs": [
    {
     "name": "stdout",
     "output_type": "stream",
     "text": [
      "Best alpha for Lasso: 0.013257113655901081\n",
      "Lasso coefficients: [ 0.         -0.17557063 -0.          0.         -0.06952684  0.01438155\n",
      " -0.08592545 -0.         -0.03942254  0.12251906  0.30902511]\n"
     ]
    },
    {
     "data": {
      "text/html": [
       "<div>\n",
       "<style scoped>\n",
       "    .dataframe tbody tr th:only-of-type {\n",
       "        vertical-align: middle;\n",
       "    }\n",
       "\n",
       "    .dataframe tbody tr th {\n",
       "        vertical-align: top;\n",
       "    }\n",
       "\n",
       "    .dataframe thead th {\n",
       "        text-align: right;\n",
       "    }\n",
       "</style>\n",
       "<table border=\"1\" class=\"dataframe\">\n",
       "  <thead>\n",
       "    <tr style=\"text-align: right;\">\n",
       "      <th></th>\n",
       "      <th>feature</th>\n",
       "      <th>lasso_coef</th>\n",
       "    </tr>\n",
       "  </thead>\n",
       "  <tbody>\n",
       "    <tr>\n",
       "      <th>10</th>\n",
       "      <td>alcohol</td>\n",
       "      <td>0.309025</td>\n",
       "    </tr>\n",
       "    <tr>\n",
       "      <th>1</th>\n",
       "      <td>volatile acidity</td>\n",
       "      <td>-0.175571</td>\n",
       "    </tr>\n",
       "    <tr>\n",
       "      <th>9</th>\n",
       "      <td>sulphates</td>\n",
       "      <td>0.122519</td>\n",
       "    </tr>\n",
       "    <tr>\n",
       "      <th>6</th>\n",
       "      <td>total sulfur dioxide</td>\n",
       "      <td>-0.085925</td>\n",
       "    </tr>\n",
       "    <tr>\n",
       "      <th>4</th>\n",
       "      <td>chlorides</td>\n",
       "      <td>-0.069527</td>\n",
       "    </tr>\n",
       "    <tr>\n",
       "      <th>8</th>\n",
       "      <td>pH</td>\n",
       "      <td>-0.039423</td>\n",
       "    </tr>\n",
       "    <tr>\n",
       "      <th>5</th>\n",
       "      <td>free sulfur dioxide</td>\n",
       "      <td>0.014382</td>\n",
       "    </tr>\n",
       "    <tr>\n",
       "      <th>0</th>\n",
       "      <td>fixed acidity</td>\n",
       "      <td>0.000000</td>\n",
       "    </tr>\n",
       "    <tr>\n",
       "      <th>2</th>\n",
       "      <td>citric acid</td>\n",
       "      <td>-0.000000</td>\n",
       "    </tr>\n",
       "    <tr>\n",
       "      <th>3</th>\n",
       "      <td>residual sugar</td>\n",
       "      <td>0.000000</td>\n",
       "    </tr>\n",
       "    <tr>\n",
       "      <th>7</th>\n",
       "      <td>density</td>\n",
       "      <td>-0.000000</td>\n",
       "    </tr>\n",
       "  </tbody>\n",
       "</table>\n",
       "</div>"
      ],
      "text/plain": [
       "                 feature  lasso_coef\n",
       "10               alcohol    0.309025\n",
       "1       volatile acidity   -0.175571\n",
       "9              sulphates    0.122519\n",
       "6   total sulfur dioxide   -0.085925\n",
       "4              chlorides   -0.069527\n",
       "8                     pH   -0.039423\n",
       "5    free sulfur dioxide    0.014382\n",
       "0          fixed acidity    0.000000\n",
       "2            citric acid   -0.000000\n",
       "3         residual sugar    0.000000\n",
       "7                density   -0.000000"
      ]
     },
     "execution_count": 62,
     "metadata": {},
     "output_type": "execute_result"
    }
   ],
   "source": [
    "# Finding best Alpha for LASSO model\n",
    "# Define the parameter grid\n",
    "lasso_param_grid = {'lasso__alpha': np.logspace(-4, 4, 50)}\n",
    "\n",
    "# Create a pipeline with a scaler and Lasso regression\n",
    "lasso_pipe = Pipeline([\n",
    "    ('scaler', StandardScaler()),\n",
    "    ('lasso', Lasso())\n",
    "])\n",
    "\n",
    "# Perform grid search with cross-validation\n",
    "lasso_grid_search = GridSearchCV(lasso_pipe, param_grid=lasso_param_grid)\n",
    "lasso_grid_search.fit(X_train, y_train)\n",
    "\n",
    "# Get the best alpha\n",
    "best_alpha_lasso = lasso_grid_search.best_params_['lasso__alpha']\n",
    "\n",
    "# Print the best alpha\n",
    "print(\"Best alpha for Lasso:\", best_alpha_lasso)\n",
    "\n",
    "# Retrieve the best estimator\n",
    "best_lasso_model = lasso_grid_search.best_estimator_\n",
    "\n",
    "# Access the coefficients of the Lasso model\n",
    "lasso_coefficients = best_lasso_model.named_steps['lasso'].coef_\n",
    "\n",
    "# Print the coefficients\n",
    "print(\"Lasso coefficients:\", lasso_coefficients)\n",
    "\n",
    "lasso_coef_df = pd.DataFrame(zip(X_train.columns, lasso_coefficients) , columns=['feature', 'lasso_coef'])\n",
    "lasso_coef_df_sorted = lasso_coef_df.reindex(lasso_coef_df['lasso_coef'].abs().sort_values(ascending=False).index)\n",
    "lasso_coef_df_sorted"
   ]
  },
  {
   "cell_type": "code",
   "execution_count": 63,
   "metadata": {},
   "outputs": [
    {
     "name": "stdout",
     "output_type": "stream",
     "text": [
      "SFS LASSO Selected features: Index(['volatile acidity', 'density', 'sulphates', 'alcohol'], dtype='object')\n",
      "SFS LASSO Train MSE: 0.4653941099904373\n",
      "SFS LASSO Test MSE: 0.43223071185476586\n",
      "Shape of the new SFS LASSO training set: (1199, 4)\n",
      "Shape of the new SFS LASSO test set: (400, 4)\n"
     ]
    }
   ],
   "source": [
    "# Create a Lasso model\n",
    "lasso = Lasso(alpha=0.1)  \n",
    "\n",
    "# Create the Sequential Feature Selector\n",
    "sfs_lasso = SequentialFeatureSelector(lasso, \n",
    "                                n_features_to_select=4)\n",
    "\n",
    "# Create the pipeline\n",
    "sfs_lasso_pipe = Pipeline([\n",
    "    ('scaler', StandardScaler()), \n",
    "    ('sfs', sfs_lasso),\n",
    "    ('lasso', lasso)\n",
    "])\n",
    "\n",
    "# Fit the pipeline\n",
    "sfs_lasso_pipe.fit(X_train, y_train)\n",
    "\n",
    "# Make predictions\n",
    "sfs_lasso_train_preds = sfs_lasso_pipe.predict(X_train)\n",
    "sfs_lasso_test_preds = sfs_lasso_pipe.predict(X_test)\n",
    "\n",
    "# Calculate MSE\n",
    "sfs_lasso_train_mse = mean_squared_error(y_train, sfs_lasso_train_preds)\n",
    "sfs_lasso_test_mse = mean_squared_error(y_test, sfs_lasso_test_preds)\n",
    "\n",
    "# Retrieve the selected features\n",
    "sfs_lasso_selected_features_mask = sfs_lasso_pipe.named_steps['sfs'].get_support()\n",
    "sfs_lasso_selected_features = X_train.columns[sfs_lasso_selected_features_mask]\n",
    "\n",
    "# Print results\n",
    "print(\"SFS LASSO Selected features:\", sfs_lasso_selected_features)\n",
    "print(\"SFS LASSO Train MSE:\", sfs_lasso_train_mse)\n",
    "print(\"SFS LASSO Test MSE:\", sfs_lasso_test_mse)\n",
    "\n",
    "# Transform the data to contain only the selected features\n",
    "X_train_sfs_lasso_selected = sfs_lasso_pipe.named_steps['sfs'].transform(X_train)\n",
    "X_test_sfs_lasso_selected = sfs_lasso_pipe.named_steps['sfs'].transform(X_test)\n",
    "\n",
    "# Print the shape of the new dataset\n",
    "print(\"Shape of the new SFS LASSO training set:\", X_train_sfs_lasso_selected.shape)\n",
    "print(\"Shape of the new SFS LASSO test set:\", X_test_sfs_lasso_selected.shape)"
   ]
  },
  {
   "cell_type": "code",
   "execution_count": 64,
   "metadata": {},
   "outputs": [
    {
     "data": {
      "text/html": [
       "<div>\n",
       "<style scoped>\n",
       "    .dataframe tbody tr th:only-of-type {\n",
       "        vertical-align: middle;\n",
       "    }\n",
       "\n",
       "    .dataframe tbody tr th {\n",
       "        vertical-align: top;\n",
       "    }\n",
       "\n",
       "    .dataframe thead th {\n",
       "        text-align: right;\n",
       "    }\n",
       "</style>\n",
       "<table border=\"1\" class=\"dataframe\">\n",
       "  <thead>\n",
       "    <tr style=\"text-align: right;\">\n",
       "      <th></th>\n",
       "      <th>Feature</th>\n",
       "      <th>sfs_lasso_Coefficient</th>\n",
       "    </tr>\n",
       "  </thead>\n",
       "  <tbody>\n",
       "    <tr>\n",
       "      <th>3</th>\n",
       "      <td>alcohol</td>\n",
       "      <td>0.263593</td>\n",
       "    </tr>\n",
       "    <tr>\n",
       "      <th>0</th>\n",
       "      <td>volatile acidity</td>\n",
       "      <td>-0.143862</td>\n",
       "    </tr>\n",
       "    <tr>\n",
       "      <th>2</th>\n",
       "      <td>sulphates</td>\n",
       "      <td>0.027303</td>\n",
       "    </tr>\n",
       "    <tr>\n",
       "      <th>1</th>\n",
       "      <td>density</td>\n",
       "      <td>-0.000000</td>\n",
       "    </tr>\n",
       "  </tbody>\n",
       "</table>\n",
       "</div>"
      ],
      "text/plain": [
       "            Feature  sfs_lasso_Coefficient\n",
       "3           alcohol               0.263593\n",
       "0  volatile acidity              -0.143862\n",
       "2         sulphates               0.027303\n",
       "1           density              -0.000000"
      ]
     },
     "execution_count": 64,
     "metadata": {},
     "output_type": "execute_result"
    }
   ],
   "source": [
    "# Retrieve the Lasso model from the pipeline\n",
    "sfs_lasso_model = sfs_lasso_pipe.named_steps['lasso']\n",
    "\n",
    "# Get the coefficients of the selected features\n",
    "sfs_lasso_selected_coef = sfs_lasso_model.coef_\n",
    "\n",
    "# Create a DataFrame to display the coefficients with their corresponding feature names\n",
    "sfs_lasso_coef_df = pd.DataFrame({'Feature': sfs_lasso_selected_features, 'sfs_lasso_Coefficient': sfs_lasso_selected_coef})\n",
    "sfs_lasso_coef_df_sorted = sfs_lasso_coef_df.reindex(sfs_lasso_coef_df['sfs_lasso_Coefficient'].abs().sort_values(ascending=False).index)\n",
    "sfs_lasso_coef_df_sorted"
   ]
  },
  {
   "cell_type": "code",
   "execution_count": 90,
   "metadata": {},
   "outputs": [
    {
     "data": {
      "image/png": "[encoded data removed]",
      "text/plain": [
       "<Figure size 640x480 with 1 Axes>"
      ]
     },
     "metadata": {},
     "output_type": "display_data"
    }
   ],
   "source": [
    "#Plot Learning curve\n",
    "sfs_lasso_train_sizes, sfs_lasso_train_scores, sfs_lasso_test_scores = learning_curve(\n",
    "        sfs_lasso_pipe,\n",
    "        X_train,\n",
    "        y_train\n",
    "    )\n",
    "sfs_lasso_train_scores_mean = np.mean(sfs_lasso_train_scores, axis=1)\n",
    "sfs_lasso_test_scores_mean = np.mean(sfs_lasso_test_scores, axis=1)\n",
    "\n",
    "plt.plot(sfs_lasso_train_sizes, sfs_lasso_train_scores_mean, label=\"Training score\", color=\"navy\", marker='o')\n",
    "plt.plot(sfs_lasso_train_sizes, sfs_lasso_test_scores_mean, label=\"Validation score\", color=\"darkorange\", marker='o')\n",
    "plt.ylabel('Score', fontsize = 14)\n",
    "plt.xlabel('Training set size', fontsize = 14)\n",
    "plt.title('Learning curves for SFS using LASSO', fontsize = 18, y = 1.03)\n",
    "plt.legend()\n",
    "plt.show()"
   ]
  },
  {
   "cell_type": "markdown",
   "metadata": {},
   "source": [
    "## RFE using Lasso to select 4 features"
   ]
  },
  {
   "cell_type": "code",
   "execution_count": 70,
   "metadata": {},
   "outputs": [
    {
     "name": "stdout",
     "output_type": "stream",
     "text": [
      "Selected features: Index(['volatile acidity', 'pH', 'sulphates', 'alcohol'], dtype='object')\n"
     ]
    }
   ],
   "source": [
    "# Create a Lasso model\n",
    "rfe_lasso = Lasso(alpha=0.1)  # You can adjust alpha as needed\n",
    "\n",
    "# Create the RFE selector with Lasso\n",
    "rfe = RFE(estimator=rfe_lasso, n_features_to_select=4)\n",
    "\n",
    "# Create a pipeline with a scaler and RFE\n",
    "rfe_pipe = Pipeline([\n",
    "    ('scaler', StandardScaler()),\n",
    "    ('rfe', rfe)\n",
    "])\n",
    "\n",
    "# Fit RFE selector to the data\n",
    "rfe_pipe.fit(X_train, y_train)\n",
    "\n",
    "# Get selected features\n",
    "rfe_selected_features_mask = rfe_pipe.named_steps['rfe'].support_\n",
    "rfe_selected_features = X_train.columns[rfe_selected_features_mask]\n",
    "\n",
    "# Print selected features\n",
    "print(\"Selected features:\", rfe_selected_features)"
   ]
  },
  {
   "cell_type": "code",
   "execution_count": 71,
   "metadata": {},
   "outputs": [],
   "source": [
    "# Get the coefficients from the Lasso model\n",
    "rfe_lasso_coef = rfe_pipe.named_steps['rfe'].estimator_.coef_\n",
    "\n",
    "# Create a DataFrame to display the coefficients with their corresponding feature names\n",
    "rfe_coef_df = pd.DataFrame({'Selected Feature': rfe_selected_features, 'rfe_lasso_Coefficient': rfe_lasso_coef})"
   ]
  },
  {
   "cell_type": "code",
   "execution_count": 74,
   "metadata": {},
   "outputs": [],
   "source": [
    "rfe_coef_df_sorted = rfe_coef_df.reindex(rfe_coef_df['rfe_lasso_Coefficient'].abs().sort_values(ascending=False).index)"
   ]
  },
  {
   "cell_type": "code",
   "execution_count": 76,
   "metadata": {},
   "outputs": [],
   "source": [
    "# Make predictions\n",
    "rfe_train_preds = rfe_pipe.predict(X_train)\n",
    "rfe_test_preds = rfe_pipe.predict(X_test)\n",
    "\n",
    "# Calculate rfe MSE\n",
    "rfe_lasso_train_mse = mean_squared_error(y_train, rfe_train_preds)\n",
    "rfe_lasso_test_mse = mean_squared_error(y_test, rfe_test_preds)"
   ]
  },
  {
   "cell_type": "code",
   "execution_count": 78,
   "metadata": {},
   "outputs": [
    {
     "data": {
      "text/plain": [
       "(0.46539407696658114, 0.43223065709806036)"
      ]
     },
     "execution_count": 78,
     "metadata": {},
     "output_type": "execute_result"
    }
   ],
   "source": [
    "rfe_lasso_train_mse, rfe_lasso_test_mse"
   ]
  },
  {
   "cell_type": "code",
   "execution_count": 91,
   "metadata": {},
   "outputs": [
    {
     "data": {
      "image/png": "[encoded data removed]",
      "text/plain": [
       "<Figure size 640x480 with 1 Axes>"
      ]
     },
     "metadata": {},
     "output_type": "display_data"
    }
   ],
   "source": [
    "#Plot Learning curve\n",
    "rfe_lasso_train_sizes, rfe_lasso_train_scores, rfe_lasso_test_scores = learning_curve(\n",
    "        rfe_pipe,\n",
    "        X_train,\n",
    "        y_train\n",
    "    )\n",
    "rfe_lasso_train_scores_mean = np.mean(rfe_lasso_train_scores, axis=1)\n",
    "rfe_lasso_test_scores_mean = np.mean(rfe_lasso_test_scores, axis=1)\n",
    "\n",
    "plt.plot(rfe_lasso_train_sizes, rfe_lasso_train_scores_mean, label=\"Training score\", color=\"navy\", marker='o')\n",
    "plt.plot(rfe_lasso_train_sizes, rfe_lasso_test_scores_mean, label=\"Validation score\", color=\"darkorange\", marker='o')\n",
    "plt.ylabel('Score', fontsize = 14)\n",
    "plt.xlabel('Training set size', fontsize = 14)\n",
    "plt.title('Learning curves for RFE using LASSO', fontsize = 18, y = 1.03)\n",
    "plt.legend()\n",
    "plt.show()"
   ]
  },
  {
   "cell_type": "code",
   "execution_count": 81,
   "metadata": {},
   "outputs": [
    {
     "data": {
      "text/html": [
       "<div>\n",
       "<style scoped>\n",
       "    .dataframe tbody tr th:only-of-type {\n",
       "        vertical-align: middle;\n",
       "    }\n",
       "\n",
       "    .dataframe tbody tr th {\n",
       "        vertical-align: top;\n",
       "    }\n",
       "\n",
       "    .dataframe thead th {\n",
       "        text-align: right;\n",
       "    }\n",
       "</style>\n",
       "<table border=\"1\" class=\"dataframe\">\n",
       "  <thead>\n",
       "    <tr style=\"text-align: right;\">\n",
       "      <th></th>\n",
       "      <th>Method</th>\n",
       "      <th>Train MSE</th>\n",
       "      <th>Test MSE</th>\n",
       "    </tr>\n",
       "  </thead>\n",
       "  <tbody>\n",
       "    <tr>\n",
       "      <th>0</th>\n",
       "      <td>Ridge</td>\n",
       "      <td>0.428124</td>\n",
       "      <td>0.389630</td>\n",
       "    </tr>\n",
       "    <tr>\n",
       "      <th>1</th>\n",
       "      <td>SFS Lasso</td>\n",
       "      <td>0.465394</td>\n",
       "      <td>0.432231</td>\n",
       "    </tr>\n",
       "    <tr>\n",
       "      <th>2</th>\n",
       "      <td>RFE Lasso</td>\n",
       "      <td>0.465394</td>\n",
       "      <td>0.432231</td>\n",
       "    </tr>\n",
       "  </tbody>\n",
       "</table>\n",
       "</div>"
      ],
      "text/plain": [
       "      Method  Train MSE  Test MSE\n",
       "0      Ridge   0.428124  0.389630\n",
       "1  SFS Lasso   0.465394  0.432231\n",
       "2  RFE Lasso   0.465394  0.432231"
      ]
     },
     "execution_count": 81,
     "metadata": {},
     "output_type": "execute_result"
    }
   ],
   "source": [
    "# Create a dictionary to store the MSEs\n",
    "mse_dict = {\n",
    "    'Method': ['Ridge', 'SFS Lasso', 'RFE Lasso'],\n",
    "    'Train MSE': [ridge_train_mse, sfs_lasso_train_mse, rfe_lasso_train_mse],\n",
    "    'Test MSE': [ridge_test_mse, sfs_lasso_test_mse, rfe_lasso_test_mse]\n",
    "}\n",
    "\n",
    "# Create a DataFrame from the dictionary\n",
    "mse_df = pd.DataFrame(mse_dict)\n",
    "\n",
    "# Print the DataFrame\n",
    "mse_df"
   ]
  },
  {
   "cell_type": "code",
   "execution_count": 82,
   "metadata": {},
   "outputs": [
    {
     "data": {
      "text/html": [
       "<div>\n",
       "<style scoped>\n",
       "    .dataframe tbody tr th:only-of-type {\n",
       "        vertical-align: middle;\n",
       "    }\n",
       "\n",
       "    .dataframe tbody tr th {\n",
       "        vertical-align: top;\n",
       "    }\n",
       "\n",
       "    .dataframe thead th {\n",
       "        text-align: right;\n",
       "    }\n",
       "</style>\n",
       "<table border=\"1\" class=\"dataframe\">\n",
       "  <thead>\n",
       "    <tr style=\"text-align: right;\">\n",
       "      <th></th>\n",
       "      <th>Selected Feature</th>\n",
       "      <th>rfe_lasso_Coefficient</th>\n",
       "    </tr>\n",
       "  </thead>\n",
       "  <tbody>\n",
       "    <tr>\n",
       "      <th>3</th>\n",
       "      <td>alcohol</td>\n",
       "      <td>0.263593</td>\n",
       "    </tr>\n",
       "    <tr>\n",
       "      <th>0</th>\n",
       "      <td>volatile acidity</td>\n",
       "      <td>-0.143862</td>\n",
       "    </tr>\n",
       "    <tr>\n",
       "      <th>2</th>\n",
       "      <td>sulphates</td>\n",
       "      <td>0.027303</td>\n",
       "    </tr>\n",
       "    <tr>\n",
       "      <th>1</th>\n",
       "      <td>pH</td>\n",
       "      <td>-0.000000</td>\n",
       "    </tr>\n",
       "  </tbody>\n",
       "</table>\n",
       "</div>"
      ],
      "text/plain": [
       "   Selected Feature  rfe_lasso_Coefficient\n",
       "3           alcohol               0.263593\n",
       "0  volatile acidity              -0.143862\n",
       "2         sulphates               0.027303\n",
       "1                pH              -0.000000"
      ]
     },
     "execution_count": 82,
     "metadata": {},
     "output_type": "execute_result"
    }
   ],
   "source": [
    "rfe_coef_df_sorted"
   ]
  },
  {
   "cell_type": "code",
   "execution_count": 86,
   "metadata": {},
   "outputs": [
    {
     "data": {
      "text/html": [
       "<div>\n",
       "<style scoped>\n",
       "    .dataframe tbody tr th:only-of-type {\n",
       "        vertical-align: middle;\n",
       "    }\n",
       "\n",
       "    .dataframe tbody tr th {\n",
       "        vertical-align: top;\n",
       "    }\n",
       "\n",
       "    .dataframe thead th {\n",
       "        text-align: right;\n",
       "    }\n",
       "</style>\n",
       "<table border=\"1\" class=\"dataframe\">\n",
       "  <thead>\n",
       "    <tr style=\"text-align: right;\">\n",
       "      <th></th>\n",
       "      <th>Method</th>\n",
       "      <th>Best alpha</th>\n",
       "    </tr>\n",
       "  </thead>\n",
       "  <tbody>\n",
       "    <tr>\n",
       "      <th>0</th>\n",
       "      <td>Ridge</td>\n",
       "      <td>75.431201</td>\n",
       "    </tr>\n",
       "    <tr>\n",
       "      <th>1</th>\n",
       "      <td>Lasso</td>\n",
       "      <td>0.013257</td>\n",
       "    </tr>\n",
       "  </tbody>\n",
       "</table>\n",
       "</div>"
      ],
      "text/plain": [
       "  Method  Best alpha\n",
       "0  Ridge   75.431201\n",
       "1  Lasso    0.013257"
      ]
     },
     "execution_count": 86,
     "metadata": {},
     "output_type": "execute_result"
    }
   ],
   "source": [
    "# Create a dictionary to store the MSEs\n",
    "alpha_dict = {\n",
    "    'Method': ['Ridge', 'Lasso'],\n",
    "    'Best alpha': [ridge_best_alpha, best_alpha_lasso]\n",
    "}\n",
    "\n",
    "# Create a DataFrame from the dictionary\n",
    "alpha_df = pd.DataFrame(alpha_dict)\n",
    "\n",
    "# Print the DataFrame\n",
    "alpha_df"
   ]
  },
  {
   "cell_type": "code",
   "execution_count": null,
   "metadata": {},
   "outputs": [],
   "source": []
  },
  {
   "cell_type": "code",
   "execution_count": null,
   "metadata": {},
   "outputs": [],
   "source": []
  }
 ],
 "metadata": {
  "kernelspec": {
   "display_name": "Python 3 (ipykernel)",
   "language": "python",
   "name": "python3"
  },
  "language_info": {
   "codemirror_mode": {
    "name": "ipython",
    "version": 3
   },
   "file_extension": ".py",
   "mimetype": "text/x-python",
   "name": "python",
   "nbconvert_exporter": "python",
   "pygments_lexer": "ipython3",
   "version": "3.11.7"
  },
  "widgets": {
   "application/vnd.jupyter.widget-state+json": {
    "state": {},
    "version_major": 2,
    "version_minor": 0
   }
  }
 },
 "nbformat": 4,
 "nbformat_minor": 4
}
